{
 "cells": [
  {
   "cell_type": "markdown",
   "id": "025563fd",
   "metadata": {},
   "source": [
    "# Regression models for the estimation of Peak floor acceleration along the height (PFA)"
   ]
  },
  {
   "cell_type": "code",
   "execution_count": 1,
   "id": "43949355",
   "metadata": {},
   "outputs": [],
   "source": [
    "# Import Important libraries\n",
    "import numpy as np \n",
    "from sklearn import preprocessing\n",
    "from sklearn.preprocessing import StandardScaler\n",
    "import math\n",
    "import pickle"
   ]
  },
  {
   "cell_type": "code",
   "execution_count": 6,
   "id": "6e97e22b",
   "metadata": {},
   "outputs": [],
   "source": [
    "# Load scaler\n",
    "Scaler=pickle.load(open('PFA_scaler.sav','rb'))\n",
    "\n",
    "# Load trained ML models for predicting MIDR\n",
    "LR_PFA  = pickle.load(open('PFA_Linear-regression.sav','rb'))    # Linear regression\n",
    "PR2_PFA = pickle.load(open('PFA_Polynomial_degree2.sav','rb'))    # Polynomial degree2 regression\n",
    "PR3_PFA = pickle.load(open('PFA_Polynomial_degree3.sav','rb'))    # Polynomial degree3 regression\n",
    "RT_PFA  = pickle.load(open('PFA_Regression-tree.sav','rb'))      # Regression tree\n",
    "RF_PFA  = pickle.load(open('PFA_Random-forest.sav','rb'))        # Random forest\n",
    "KNN_PFA = pickle.load(open('PFA_KNN.sav','rb'))  # K-nearest neighbors\n",
    "SVR_PFA = pickle.load(open('PFA_SVR.sav','rb')) # Support vector regression"
   ]
  },
  {
   "cell_type": "code",
   "execution_count": 14,
   "id": "11c684dc",
   "metadata": {},
   "outputs": [],
   "source": [
    "# Predict PFA using the developed ML models\n",
    "\n",
    "# Input parameters\n",
    "\n",
    "# scale\n",
    "PGA = 0.313        # Peak ground acceleration in g\n",
    "SaT1 = 0.659       # Response spectrum at the fundamental period in g\n",
    "D5_75 = 11.270     # Significant duration between 5% and 75% of Ia occurred in s\n"
   ]
  },
  {
   "cell_type": "code",
   "execution_count": 15,
   "id": "f2426731",
   "metadata": {},
   "outputs": [
    {
     "name": "stdout",
     "output_type": "stream",
     "text": [
      "Linear regression\n",
      "PFA = 1.321 g\n",
      "\n",
      "Polynomial degree2 regression\n",
      "PFA = 3.200 g\n",
      "\n",
      "Polynomial degree3 regression\n",
      "PFA = 3.895 g\n",
      "\n",
      "Regression tree\n",
      "PFA = 0.713 g\n",
      "\n",
      "Random forest\n",
      "PFA = 0.802 g\n",
      "\n",
      "K-nearest neighbors\n",
      "PFA = 1.109 g\n",
      "\n",
      "Support vector regression\n",
      "PFA = 0.619 g\n",
      "\n"
     ]
    },
    {
     "name": "stderr",
     "output_type": "stream",
     "text": [
      "C:\\Users\\Asus\\Anaconda3\\lib\\site-packages\\sklearn\\base.py:451: UserWarning: X does not have valid feature names, but LinearRegression was fitted with feature names\n",
      "  \"X does not have valid feature names, but\"\n",
      "C:\\Users\\Asus\\Anaconda3\\lib\\site-packages\\sklearn\\base.py:451: UserWarning: X does not have valid feature names, but PolynomialFeatures was fitted with feature names\n",
      "  \"X does not have valid feature names, but\"\n",
      "C:\\Users\\Asus\\Anaconda3\\lib\\site-packages\\sklearn\\base.py:451: UserWarning: X does not have valid feature names, but PolynomialFeatures was fitted with feature names\n",
      "  \"X does not have valid feature names, but\"\n",
      "C:\\Users\\Asus\\Anaconda3\\lib\\site-packages\\sklearn\\base.py:451: UserWarning: X does not have valid feature names, but DecisionTreeRegressor was fitted with feature names\n",
      "  \"X does not have valid feature names, but\"\n",
      "C:\\Users\\Asus\\Anaconda3\\lib\\site-packages\\sklearn\\base.py:451: UserWarning: X does not have valid feature names, but RandomForestRegressor was fitted with feature names\n",
      "  \"X does not have valid feature names, but\"\n",
      "C:\\Users\\Asus\\Anaconda3\\lib\\site-packages\\sklearn\\base.py:451: UserWarning: X does not have valid feature names, but KNeighborsRegressor was fitted with feature names\n",
      "  \"X does not have valid feature names, but\"\n",
      "C:\\Users\\Asus\\Anaconda3\\lib\\site-packages\\sklearn\\base.py:451: UserWarning: X does not have valid feature names, but SVR was fitted with feature names\n",
      "  \"X does not have valid feature names, but\"\n"
     ]
    }
   ],
   "source": [
    "# The list of input features\n",
    "X_input = np.array([[np.log(PGA), np.log(SaT1), np.log(D5_75)]])\n",
    "\n",
    "X_input_scaled = Scaler.transform(X_input)\n",
    "\n",
    "PFA_LR  = LR_PFA.predict(X_input_scaled)\n",
    "PFA_PR2 = PR2_PFA.predict(X_input_scaled)\n",
    "PFA_PR3 = PR3_PFA.predict(X_input_scaled)\n",
    "PFA_RT  = RT_PFA.predict(X_input_scaled)\n",
    "PFA_RF  = RF_PFA.predict(X_input_scaled)\n",
    "PFA_KNN = KNN_PFA.predict(X_input_scaled)\n",
    "PFA_SVR = SVR_PFA.predict(X_input_scaled)\n",
    "\n",
    "print('Linear regression')\n",
    "print('PFA = %.3f'% math.exp(PFA_LR[0])+' g')\n",
    "print()\n",
    "\n",
    "print('Polynomial degree2 regression')\n",
    "print('PFA = %.3f'% math.exp(PFA_PR2[0])+' g')\n",
    "print()\n",
    "\n",
    "print('Polynomial degree3 regression')\n",
    "print('PFA = %.3f'% math.exp(PFA_PR3[0])+' g')\n",
    "print()\n",
    "\n",
    "print('Regression tree')\n",
    "print('PFA = %.3f'% math.exp(PFA_RT[0])+' g')\n",
    "print()\n",
    "\n",
    "print('Random forest')\n",
    "print('PFA = %.3f'% math.exp(PFA_RF[0])+' g')\n",
    "print()\n",
    "\n",
    "print('K-nearest neighbors')\n",
    "print('PFA = %.3f'% math.exp(PFA_KNN[0])+' g')\n",
    "print()\n",
    "\n",
    "print('Support vector regression')\n",
    "print('PFA = %.3f'% math.exp(PFA_SVR[0])+' g')\n",
    "print()"
   ]
  },
  {
   "cell_type": "code",
   "execution_count": null,
   "id": "45c12087",
   "metadata": {},
   "outputs": [],
   "source": []
  },
  {
   "cell_type": "code",
   "execution_count": null,
   "id": "8f035d72",
   "metadata": {},
   "outputs": [],
   "source": []
  },
  {
   "cell_type": "code",
   "execution_count": null,
   "id": "32455517",
   "metadata": {},
   "outputs": [],
   "source": []
  }
 ],
 "metadata": {
  "kernelspec": {
   "display_name": "Python 3 (ipykernel)",
   "language": "python",
   "name": "python3"
  },
  "language_info": {
   "codemirror_mode": {
    "name": "ipython",
    "version": 3
   },
   "file_extension": ".py",
   "mimetype": "text/x-python",
   "name": "python",
   "nbconvert_exporter": "python",
   "pygments_lexer": "ipython3",
   "version": "3.7.13"
  }
 },
 "nbformat": 4,
 "nbformat_minor": 5
}
